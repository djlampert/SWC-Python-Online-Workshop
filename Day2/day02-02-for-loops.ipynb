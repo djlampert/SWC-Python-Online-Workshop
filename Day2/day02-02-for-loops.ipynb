{
 "cells": [
  {
   "cell_type": "markdown",
   "metadata": {},
   "source": [
    "# ===========================================================\n",
    "# 02 Loops"
   ]
  },
  {
   "cell_type": "markdown",
   "metadata": {},
   "source": [
    "**Objectives:**\n",
    "- Explain what for loops are used for.\n",
    "- Trace the execution of a simple (unnested) loop and correctly state the values of variables in each iteration.\n",
    "- Analyze a for loops that uses the Accumulator pattern to aggregate values."
   ]
  },
  {
   "cell_type": "markdown",
   "metadata": {},
   "source": [
    "## A *for loop* executes commands once for each value in a collection.\n",
    "\n",
    "- Doing calculations on the values in a list one by one\n",
    "  is painful and does not help us with productivity\n",
    "- A *for loop* tells Python to execute some statements over and over so\n",
    "  we can to the same task on each item in a list of collect."
   ]
  },
  {
   "cell_type": "code",
   "execution_count": null,
   "metadata": {},
   "outputs": [],
   "source": [
    "for number in [2, 3, 5]:\n",
    "    print(number)"
   ]
  },
  {
   "cell_type": "markdown",
   "metadata": {},
   "source": [
    "- This `for` loop is equivalent to:"
   ]
  },
  {
   "cell_type": "code",
   "execution_count": null,
   "metadata": {},
   "outputs": [],
   "source": [
    "print(2)\n",
    "print(3)\n",
    "print(5)"
   ]
  },
  {
   "cell_type": "markdown",
   "metadata": {},
   "source": [
    "## Anatomy of a `for` loop"
   ]
  },
  {
   "cell_type": "markdown",
   "metadata": {},
   "source": [
    "- The collection: `[2, 3, 5]` (what the loop is run on)\n",
    "- The body: `print(number)` (what the loop should do for each item in the collection)\n",
    "- The loop variable: `number` (what changes hold that *iteration's* item - the \"current thing\")"
   ]
  },
  {
   "cell_type": "code",
   "execution_count": null,
   "metadata": {},
   "outputs": [],
   "source": [
    "for number in [2, 3, 5]:\n",
    "    print(number)"
   ]
  },
  {
   "cell_type": "markdown",
   "metadata": {},
   "source": [
    "## `for` loop \"punctuation\"\n",
    "\n",
    "- A `for` loop must end with a colon\n",
    "- The colon at the end of the first line signals the start of a *block* of statements.\n",
    "- Blocks must be indented\n",
    "  - Any consistent indentation is legal, but common convention is four spaces"
   ]
  },
  {
   "cell_type": "code",
   "execution_count": null,
   "metadata": {},
   "outputs": [],
   "source": [
    "for number in [2, 3, 5]:\n",
    "print(number)"
   ]
  },
  {
   "cell_type": "markdown",
   "metadata": {},
   "source": [
    "- Python always takes note of white space and indentation."
   ]
  },
  {
   "cell_type": "code",
   "execution_count": null,
   "metadata": {},
   "outputs": [],
   "source": [
    "# 1. Run this cell to see the error\n",
    "# 2. Fix the error by removing the extra\n",
    "#    space and run it again\n",
    "firstName = \"Jon\"\n",
    "  lastName = \"Smith\""
   ]
  },
  {
   "cell_type": "markdown",
   "metadata": {},
   "source": [
    "## Use Descriptive Loop variables\n",
    "- As with all variables, loop variables are:\n",
    "  - Created on demand.\n",
    "  - Meaningless: their names can be anything at all."
   ]
  },
  {
   "cell_type": "code",
   "execution_count": null,
   "metadata": {},
   "outputs": [],
   "source": [
    "# 1. Change the loop variable to a more\n",
    "#    meaningful name\n",
    "for kitten in [2, 3, 5]:\n",
    "    print(kitten)"
   ]
  },
  {
   "cell_type": "markdown",
   "metadata": {},
   "source": [
    "## Keep the Body of a Loop Short\n",
    "\n",
    "- Loops can have as many lines as you want\n",
    "- Try to keep loops short for readable code\n",
    "  - A good guidline is no more than twelve lines"
   ]
  },
  {
   "cell_type": "code",
   "execution_count": null,
   "metadata": {},
   "outputs": [],
   "source": [
    "primes = [2, 3, 5]\n",
    "# 1. Run this loop and look at the error.\n",
    "# 2. Fix the loop so it runs correctly\n",
    "for p in primes\n",
    "    squared = p ** 2\n",
    "    cubed = p ** 3\n",
    "    print(p, squared, cubed)"
   ]
  },
  {
   "cell_type": "markdown",
   "metadata": {},
   "source": [
    "## Use `range` to Loop over a Sequence of Numbers\n",
    "\n",
    "- The built-in function [`range()`](https://docs.python.org/3/library/stdtypes.html#range) produces a sequence of numbers.\n",
    "  - `range()`*does not* a list\n",
    "    - Numbers are generated on demand\n",
    "- `range(N)` is the numbers `0...N-1`\n",
    "  - This matches Python indexing for collections"
   ]
  },
  {
   "cell_type": "code",
   "execution_count": null,
   "metadata": {},
   "outputs": [],
   "source": [
    "print('a range is not a list: range(0, 3)')\n",
    "for number in range(0, 3):\n",
    "    print(number)"
   ]
  },
  {
   "cell_type": "code",
   "execution_count": null,
   "metadata": {},
   "outputs": [],
   "source": [
    "# 1. Run this loop\n",
    "#    Why is the output different than above?\n",
    "print(range(0, 3))"
   ]
  },
  {
   "cell_type": "markdown",
   "metadata": {},
   "source": [
    "## A Common Loop Pattern: The Accumulator Pattern\n",
    "- A common pattern in many programs is as follows:\n",
    "  1. Initialize an *accumulator* variable to zero, the empty string, or the empty list.\n",
    "  2. Update or add values from a collection to the variable."
   ]
  },
  {
   "cell_type": "code",
   "execution_count": null,
   "metadata": {},
   "outputs": [],
   "source": [
    "# Sum the first 10 integers.\n",
    "total = 0\n",
    "for number in range(10):\n",
    "   total = total + (number + 1)\n",
    "print(total)"
   ]
  },
  {
   "cell_type": "markdown",
   "metadata": {},
   "source": [
    "## Exercise\n",
    "1. Break down the steps of the loop. What is happening at each step?\n",
    "2. Why is `total` computed as `total + (number + 1)` and not `total + number`?\n",
    "3. Change the accumulator value `total` to be an empty list. Append each new value\n",
    "   to the list and print the final list."
   ]
  },
  {
   "cell_type": "markdown",
   "metadata": {},
   "source": [
    "**Objectives:**\n",
    "- Explain what for loops are used for.\n",
    "- Trace the execution of a simple (unnested) loop and correctly state the values of variables in each iteration.\n",
    "- Analyze a for loops that uses the Accumulator pattern to aggregate values."
   ]
  }
 ],
 "metadata": {
  "kernelspec": {
   "display_name": "Python 3",
   "language": "python",
   "name": "python3"
  },
  "language_info": {
   "codemirror_mode": {
    "name": "ipython",
    "version": 3
   },
   "file_extension": ".py",
   "mimetype": "text/x-python",
   "name": "python",
   "nbconvert_exporter": "python",
   "pygments_lexer": "ipython3",
   "version": "3.7.6"
  }
 },
 "nbformat": 4,
 "nbformat_minor": 4
}
