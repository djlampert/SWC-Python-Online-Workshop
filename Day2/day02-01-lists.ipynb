{
  "cells": [
    {
      "metadata": {},
      "cell_type": "markdown",
      "source": "# Day 02"
    },
    {
      "metadata": {},
      "cell_type": "markdown",
      "source": "# ===========================================================\n# 01 Lists"
    },
    {
      "metadata": {},
      "cell_type": "markdown",
      "source": "## Learning Objectives\n\n**Question:** How can I store mutliple values?\n\n**Objectives:** \n- Explain what a list is\n- Create and index lists of values\n- Append values to an existing list\n- Reorder and slice list elements"
    },
    {
      "metadata": {},
      "cell_type": "markdown",
      "source": "## A list stores many values in a single structure.\n\n*   Doing calculations with a hundred variables called `pressure_001`, `pressure_002`, etc.,\n    would be at least as slow as doing them by hand.\n*   Use a *list* to store many values together.\n    *   Contained within square brackets `[...]`.\n    *   Values separated by commas `,`.\n*   Use `len` to find out how many values are in a list."
    },
    {
      "metadata": {
        "trusted": true
      },
      "cell_type": "code",
      "source": "# 1. Create a list called pressures\npressures = [0.273, 0.275, 0.277, 0.275, 0.276]\nprint('pressures:', pressures)\n\n# 2. Use the `len()` function to print the length of pressures\nprint(pressures.index(.275))",
      "execution_count": 1,
      "outputs": [
        {
          "output_type": "stream",
          "text": "pressures: [0.273, 0.275, 0.277, 0.275, 0.276]\n1\n",
          "name": "stdout"
        }
      ]
    },
    {
      "metadata": {},
      "cell_type": "markdown",
      "source": "## Use an item's index to fetch it from a list.\n\n- You can select an item from a list by using an index just like lists.\n  - Don't forget zero indexing."
    },
    {
      "metadata": {
        "trusted": false
      },
      "cell_type": "code",
      "source": "# 1. Print the first (zeroth) item in `pressures`\nprint('zeroth item of pressures:', pressures[0])\n\n# 2. Print the last item in `pressures`\n",
      "execution_count": null,
      "outputs": []
    },
    {
      "metadata": {},
      "cell_type": "markdown",
      "source": "## Replacing Lists' values\n\n- You can replace a value in a list by using this same indexing convention."
    },
    {
      "metadata": {
        "trusted": false
      },
      "cell_type": "code",
      "source": "pressures[0] = 0.265\nprint('pressures is now:', pressures)",
      "execution_count": null,
      "outputs": []
    },
    {
      "metadata": {},
      "cell_type": "markdown",
      "source": "## Adding items to a list\n\n- Use `list_name.append` to add items to the end of a list."
    },
    {
      "metadata": {
        "trusted": false
      },
      "cell_type": "code",
      "source": "primes = [2, 3, 5]\nprint('primes is initially:', primes)\n\n# 1. Append 7 and 9 to the end of `primes`\n\nprint('primes has become:', primes)",
      "execution_count": null,
      "outputs": []
    },
    {
      "metadata": {},
      "cell_type": "markdown",
      "source": "- `append` is a *method* of lists.\n  - A *method* is a function that is attached only to the object that owns it.\n  - Access an objects methods by using `.`.\n- `extend` is similar to `append`, but it allows you to combine two lists."
    },
    {
      "metadata": {},
      "cell_type": "markdown",
      "source": "### Exercise: Run the following code and discuss with a neighbor the difference."
    },
    {
      "metadata": {
        "trusted": false
      },
      "cell_type": "code",
      "source": "teen_primes = [11, 13, 17, 19]\nmiddle_aged_primes = [37, 41, 43, 47]\nprint('primes is currently:', primes)\nprimes.extend(teen_primes)\nprint('primes has now become:', primes)\nprimes.append(middle_aged_primes)\nprint('primes has finally become:', primes)",
      "execution_count": null,
      "outputs": []
    },
    {
      "metadata": {},
      "cell_type": "markdown",
      "source": "### Answer\nWhile `extend` maintains the “flat” structure of the list, appending a list to a list makes the result two-dimensional - the last element in `primes` is a list, not an integer."
    },
    {
      "metadata": {},
      "cell_type": "markdown",
      "source": "## Removing items from a list\n- `del list_name[index]` removes an item from a list and shortens the list.\n- `del` is not a function or a method; it's a Python key word."
    },
    {
      "metadata": {
        "trusted": false
      },
      "cell_type": "code",
      "source": "primes = [2, 3, 5, 7, 9]\nprint('primes before removing last item:', primes)\n\n# 1. Delete the last item in `primes`\n\nprint('primes after removing last item:', primes)",
      "execution_count": null,
      "outputs": []
    },
    {
      "metadata": {},
      "cell_type": "markdown",
      "source": "## Empty Lists\n- Use `[]` on its own to represent a list that doesn't contain any values.\n- Empty lists are helpful as a starting point for collecting values.\n\n## Lists may contain values of different types.\n- A single list may contain numbers, strings, and anything else."
    },
    {
      "metadata": {
        "trusted": false
      },
      "cell_type": "code",
      "source": "goals = [1, 'Create lists.', 2, 'Extract items from lists.', 3, 'Modify lists.']",
      "execution_count": null,
      "outputs": []
    },
    {
      "metadata": {},
      "cell_type": "markdown",
      "source": "## Character strings can be indexed\n- Get single characters from a character string using indexes in square brackets."
    },
    {
      "metadata": {
        "trusted": false
      },
      "cell_type": "code",
      "source": "element = 'carbon'\nprint('zeroth character:', element[0])\n\n# 1. Find the third character in `element`\nprint('third character:', element[3])",
      "execution_count": null,
      "outputs": []
    },
    {
      "metadata": {},
      "cell_type": "markdown",
      "source": "## Character strings are immutable...lists are mutable\n- You cannot change the characters in a string after you create it.\n- *Immutable* = cannot be changed after creation.\n- *Mutable* = can be changed after creation."
    },
    {
      "metadata": {
        "trusted": false
      },
      "cell_type": "code",
      "source": "element[0] = 'C'",
      "execution_count": null,
      "outputs": []
    },
    {
      "metadata": {},
      "cell_type": "markdown",
      "source": "## Indexing beyond the end of the collection\n- Lists and character strings are both *collections*.\n- Python reports an `IndexError` if we attempt to access a value that doesn't exist."
    },
    {
      "metadata": {
        "trusted": false
      },
      "cell_type": "code",
      "source": "print('99th element of element is:', element[99])",
      "execution_count": null,
      "outputs": []
    },
    {
      "metadata": {},
      "cell_type": "markdown",
      "source": "## Exercise:\n\nWhat does the following program print?\n\n```python\nelement = 'helium'\nprint(element[-1])\n```\n\n1. How does Python interpret a negative index?\n1. How can you display all elements but the last one without changing the list values?\n> Hint: You will need to use *slicing*. *Slicing* is done by using `:`. Try the following two code example to see *slicing* in action: `element[2:4]` and `element[1:]`."
    },
    {
      "metadata": {
        "trusted": false
      },
      "cell_type": "code",
      "source": "",
      "execution_count": null,
      "outputs": []
    }
  ],
  "metadata": {
    "kernelspec": {
      "name": "python3",
      "display_name": "Python 3",
      "language": "python"
    },
    "language_info": {
      "mimetype": "text/x-python",
      "nbconvert_exporter": "python",
      "name": "python",
      "pygments_lexer": "ipython3",
      "version": "3.5.4",
      "file_extension": ".py",
      "codemirror_mode": {
        "version": 3,
        "name": "ipython"
      }
    }
  },
  "nbformat": 4,
  "nbformat_minor": 4
}