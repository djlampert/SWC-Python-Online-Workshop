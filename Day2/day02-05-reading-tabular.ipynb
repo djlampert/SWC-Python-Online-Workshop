{
 "cells": [
  {
   "cell_type": "markdown",
   "metadata": {},
   "source": [
    "# ===========================================================\n",
    "# 05 Reading Tabular Data Using Pandas"
   ]
  },
  {
   "cell_type": "markdown",
   "metadata": {},
   "source": [
    "# Objectives\n",
    "- Import the Pandas library.\n",
    "- Use Pandas to load a CSV data set.\n",
    "- Get summary information from a Pandas DataFrame.\n",
    "- Download online data using Pandas."
   ]
  },
  {
   "cell_type": "markdown",
   "metadata": {},
   "source": [
    "## Pandas\n",
    "- Pandas is a widely-used Python library for statistics and plotting\n",
    "- Its focus is tabular data\n",
    "- It is similar to R in that it uses a structure called a dataframes.\n",
    "- Dataframes can contain multiple data types"
   ]
  },
  {
   "cell_type": "markdown",
   "metadata": {},
   "source": [
    "![Data Frame ](https://pandas.pydata.org/pandas-docs/stable/_images/01_table_dataframe.svg)\n",
    "\n",
    "Source: <https://pandas.pydata.org/pandas-docs/stable/_images/01_table_dataframe.svg>"
   ]
  },
  {
   "cell_type": "markdown",
   "metadata": {},
   "source": [
    "- Pandas can read all kinds of tabular data"
   ]
  },
  {
   "cell_type": "markdown",
   "metadata": {},
   "source": [
    "![Data Processed by Pandas](https://pandas.pydata.org/pandas-docs/stable/_images/02_io_readwrite.svg)\n",
    "\n",
    "Source: <https://pandas.pydata.org/pandas-docs/stable/_images/02_io_readwrite.svg>"
   ]
  },
  {
   "cell_type": "code",
   "execution_count": null,
   "metadata": {},
   "outputs": [],
   "source": [
    "# 1. Run this cell to download the data\n",
    "# 2. Open the downloaded files to get a sense of the data\n",
    "\n",
    "# Downloads a zip file from Carpentries webpage with Gapminder data\n",
    "!wget http://swcarpentry.github.io/python-novice-gapminder/files/python-novice-gapminder-data.zip .\n",
    "# Unzips the file\n",
    "!unzip python-novice-gapminder-data.zip"
   ]
  },
  {
   "cell_type": "markdown",
   "metadata": {},
   "source": [
    "- Load Pandas with `import pandas as pd`"
   ]
  },
  {
   "cell_type": "code",
   "execution_count": null,
   "metadata": {},
   "outputs": [],
   "source": [
    "# Import the pandas library\n",
    "import pandas as pd\n",
    "\n",
    "# Use `read_csv` to read the gapminder data\n",
    "data = pd.read_csv('data/gapminder_gdp_oceania.csv')\n",
    "print(data)"
   ]
  },
  {
   "cell_type": "markdown",
   "metadata": {},
   "source": [
    "- The columns in a dataframe are the observed variables, and the rows are the observations.\n",
    "- Pandas uses backslash `\\` to show wrapped lines when output is too wide to fit the screen."
   ]
  },
  {
   "cell_type": "markdown",
   "metadata": {},
   "source": [
    "## `index_col`\n",
    "- Use `index_col` to specify that a column's values should be used as row identifiers."
   ]
  },
  {
   "cell_type": "code",
   "execution_count": null,
   "metadata": {},
   "outputs": [],
   "source": [
    "data = pd.read_csv('data/gapminder_gdp_oceania.csv', index_col='country')\n",
    "print(data)"
   ]
  },
  {
   "cell_type": "markdown",
   "metadata": {},
   "source": [
    "- Use `DataFrame.info` to find out more about a dataframe."
   ]
  },
  {
   "cell_type": "code",
   "execution_count": null,
   "metadata": {},
   "outputs": [],
   "source": [
    "# `info()` is a method of data\n",
    "data.info()"
   ]
  },
  {
   "cell_type": "markdown",
   "metadata": {},
   "source": [
    "*   This is a `DataFrame`\n",
    "*   Two rows named `'Australia'` and `'New Zealand'`\n",
    "*   Twelve columns, each of which has two actual 64-bit floating point values.\n",
    "*   Uses 208 bytes of memory."
   ]
  },
  {
   "cell_type": "markdown",
   "metadata": {},
   "source": [
    "## Attributes\n",
    "- The `DataFrame.columns` attribute stores information about the dataframe's columns.\n",
    "- Note that this is a varaible, *not* a method.\n",
    "  - It doesn't have `()`\n",
    "*   Called a *member variable*, just a *member*, or an *attribute*."
   ]
  },
  {
   "cell_type": "code",
   "execution_count": null,
   "metadata": {},
   "outputs": [],
   "source": [
    "print(data.columns)"
   ]
  },
  {
   "cell_type": "markdown",
   "metadata": {},
   "source": [
    "- Use `DataFrame.T` to transpose a dataframe.\n",
    "\n",
    "*   Sometimes want to treat columns as rows and vice versa.\n",
    "*   Transpose doesn't copy the data, just changes the program's view of it."
   ]
  },
  {
   "cell_type": "code",
   "execution_count": null,
   "metadata": {},
   "outputs": [],
   "source": [
    "print(data.T)"
   ]
  },
  {
   "cell_type": "markdown",
   "metadata": {},
   "source": [
    "## Summary Statistics\n",
    "- Use `DataFrame.describe` to get summary statistics about data.\n",
    "\n",
    "- DataFrame.describe() gets the summary statistics of only the columns that have numerical data. \n",
    "  All other columns are ignored."
   ]
  },
  {
   "cell_type": "code",
   "execution_count": null,
   "metadata": {},
   "outputs": [],
   "source": [
    "# 1. Print the summary statistics for our dataframe\n",
    "print(data.describe())"
   ]
  },
  {
   "cell_type": "markdown",
   "metadata": {},
   "source": [
    "# Exercise\n",
    "1. `read_csv()` can download data directly from a webpage.\n",
    "   Download a dataset called the Titanic Data Set by passing\n",
    "   the following URL to `read_csv()` instead of a file path.\n",
    "   Put the new dataframe in a variable called `titanic`.\n",
    "2. Use `titanic.head()` to have a look at the new dataframe.\n",
    "\n",
    "**Data URL:**\n",
    "<https://github.com/pandas-dev/pandas/raw/master/doc/data/titanic.csv>"
   ]
  },
  {
   "cell_type": "code",
   "execution_count": null,
   "metadata": {},
   "outputs": [],
   "source": []
  },
  {
   "cell_type": "markdown",
   "metadata": {},
   "source": [
    "# Objectives\n",
    "- Import the Pandas library.\n",
    "- Use Pandas to load a CSV data set.\n",
    "- Get summary information from a Pandas DataFrame.\n",
    "- Download online data using Pandas."
   ]
  }
 ],
 "metadata": {
  "kernelspec": {
   "display_name": "Python 3",
   "language": "python",
   "name": "python3"
  },
  "language_info": {
   "codemirror_mode": {
    "name": "ipython",
    "version": 3
   },
   "file_extension": ".py",
   "mimetype": "text/x-python",
   "name": "python",
   "nbconvert_exporter": "python",
   "pygments_lexer": "ipython3",
   "version": "3.7.6"
  }
 },
 "nbformat": 4,
 "nbformat_minor": 4
}
