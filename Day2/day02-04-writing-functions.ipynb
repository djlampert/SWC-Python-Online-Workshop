{
 "cells": [
  {
   "cell_type": "markdown",
   "metadata": {},
   "source": [
    "# ===========================================================\n",
    "# 04 Functions"
   ]
  },
  {
   "cell_type": "markdown",
   "metadata": {},
   "source": [
    "## Objectives\n",
    "- Explain and identify the difference between function definition and function call.\n",
    "- Write a function that takes a fixed number of arguments and produces a single result."
   ]
  },
  {
   "cell_type": "markdown",
   "metadata": {},
   "source": [
    "## Break Programs down into Functions to Make them Easier to Understand\n",
    "- Functions help the programmer encapsulate their code\n",
    "- Easier to read and understand the code\n",
    "  - Others\n",
    "  - You six months later\n",
    "- Functions make the code reusable"
   ]
  },
  {
   "cell_type": "markdown",
   "metadata": {},
   "source": [
    "## Define a Function using `def` with a Name, Parameters, and a Block of Code\n",
    "- Begin the definition of a new function with `def`.\n",
    "- Follow `def` with the name of the function.\n",
    "- After the name, put the *parameters* (inputs) in parentheses.\n",
    "  - Empty parentheses if the function doesn't take any inputs\n",
    "- End the first line with a colon.\n",
    "- The content of the function is an indented block of code."
   ]
  },
  {
   "cell_type": "code",
   "execution_count": null,
   "metadata": {},
   "outputs": [],
   "source": [
    "def print_greeting():\n",
    "    print('Hello!')"
   ]
  },
  {
   "cell_type": "markdown",
   "metadata": {},
   "source": [
    "## Defining a Function Does not run it\n",
    "- This simply creates a new functions within the environment\n",
    "  - Like assigning a value to a variable\n",
    "- You must call the function to execute the code it contains."
   ]
  },
  {
   "cell_type": "code",
   "execution_count": null,
   "metadata": {},
   "outputs": [],
   "source": [
    "print_greeting()"
   ]
  },
  {
   "cell_type": "markdown",
   "metadata": {},
   "source": [
    "## Arguments and Parameters\n",
    "- Functions are most useful when they can operate on different data.\n",
    "- You specify *parameters* within parenthesis when defining a function.\n",
    "- You pass *paramters* to a function when you call it\n",
    "- These paramters match with variables you defined in the function body\n",
    "- Python matches parameters in the order they were defined by default"
   ]
  },
  {
   "cell_type": "code",
   "execution_count": null,
   "metadata": {},
   "outputs": [],
   "source": [
    "# Create a string from the numbers in\n",
    "# and join it together as a\n",
    "# string of the date in YYYY/MM/DD format.\n",
    "# Hint: str(year) turns the year (as a number)\n",
    "#       into year (as a string)\n",
    "def print_date(year, month, day):\n",
    "    joined = str(year) + '/' + str(month) + '/' + str(day)\n",
    "    print(joined)\n",
    "\n",
    "print_date(1871, 3, 19)"
   ]
  },
  {
   "cell_type": "markdown",
   "metadata": {},
   "source": [
    "- If you want to change the ordering of parameters,\n",
    "  you can exlicitly name them when you call the function."
   ]
  },
  {
   "cell_type": "code",
   "execution_count": null,
   "metadata": {},
   "outputs": [],
   "source": [
    "# 1. Call the function using month, day, year ordering\n",
    "print_date(month=3, day=19, year=1871)"
   ]
  },
  {
   "cell_type": "markdown",
   "metadata": {},
   "source": [
    "## Returning Results\n",
    "- Functions return a result using `return`."
   ]
  },
  {
   "cell_type": "code",
   "execution_count": null,
   "metadata": {},
   "outputs": [],
   "source": [
    "def average(values):\n",
    "    if len(values) == 0:\n",
    "        return None\n",
    "    return sum(values) / len(values)"
   ]
  },
  {
   "cell_type": "code",
   "execution_count": null,
   "metadata": {},
   "outputs": [],
   "source": [
    "# 1. Find the average of 1, 3, and 4\n",
    "a = average([1, 3, 4])\n",
    "print('average of actual values:', a)"
   ]
  },
  {
   "cell_type": "code",
   "execution_count": null,
   "metadata": {},
   "outputs": [],
   "source": [
    "print('average of empty list:', average([]))"
   ]
  },
  {
   "cell_type": "markdown",
   "metadata": {},
   "source": [
    "- Every functions returns something.\n",
    "- If there is no value to return, the function returns `None`."
   ]
  },
  {
   "cell_type": "code",
   "execution_count": null,
   "metadata": {},
   "outputs": [],
   "source": [
    "result = print_date(1871, 3, 19)\n",
    "print('result of call is:', result)"
   ]
  },
  {
   "cell_type": "markdown",
   "metadata": {},
   "source": [
    "## Exercise\n",
    "1. Fill in the blanks to create a function that takes a list of numbers as an argument\n",
    "   and returns the first negative value in the list.\n",
    "2. What does your function do if the list is empty?\n",
    "3. Test your function with several different lists to see how well it works.\n",
    "\n",
    "```python\n",
    "def first_negative(values):\n",
    "    for v in ____:\n",
    "        if ____:\n",
    "            return ____\n",
    "```"
   ]
  },
  {
   "cell_type": "markdown",
   "metadata": {},
   "source": [
    "## Objectives\n",
    "- Explain and identify the difference between function definition and function call.\n",
    "- Write a function that takes a fixed number of arguments and produces a single result."
   ]
  }
 ],
 "metadata": {
  "kernelspec": {
   "display_name": "Python 3",
   "language": "python",
   "name": "python3"
  },
  "language_info": {
   "codemirror_mode": {
    "name": "ipython",
    "version": 3
   },
   "file_extension": ".py",
   "mimetype": "text/x-python",
   "name": "python",
   "nbconvert_exporter": "python",
   "pygments_lexer": "ipython3",
   "version": "3.7.6"
  }
 },
 "nbformat": 4,
 "nbformat_minor": 4
}
