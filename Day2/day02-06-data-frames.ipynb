{
 "cells": [
  {
   "cell_type": "markdown",
   "metadata": {},
   "source": [
    "# ===========================================================\n",
    "# 06 Working with Data"
   ]
  },
  {
   "cell_type": "markdown",
   "metadata": {},
   "source": [
    "## Objectives\n",
    "- Select individual values from a Pandas dataframe.\n",
    "- Select entire rows or entire columns from a dataframe.\n",
    "- Select a subset of both rows and columns from a dataframe in a single operation.\n",
    "- Filter data based on values in a dataframe.\n",
    "- Apply a split-apply-combine workflow to a dataframe.\n",
    "- Convert a dataframe between wide and long data formats."
   ]
  },
  {
   "cell_type": "markdown",
   "metadata": {},
   "source": [
    "## Some Notes on DataFrames\n",
    "\n",
    "- A DataFrame is a collection of Series\n",
    "  - The DataFrame is the way Pandas represents a table, and Series is the data-structure\n",
    "    Pandas use to represent a column.\n",
    "- Pandas is built on top of the Numpy library\n",
    "    - We get to use those function too\n",
    "- Benefits of using Pandas:\n",
    "  - Interface to access individual records\n",
    "  - Proper handling of missing values\n",
    "  - Relational-databases operations between DataFrames"
   ]
  },
  {
   "cell_type": "markdown",
   "metadata": {},
   "source": [
    "## Selecting values\n",
    "- Use `DataFrame.iloc[ROW, COLUMN]` to select values by their numerical position"
   ]
  },
  {
   "cell_type": "code",
   "execution_count": null,
   "metadata": {},
   "outputs": [],
   "source": [
    "import pandas as pd\n",
    "data = pd.read_csv('data/gapminder_gdp_europe.csv', index_col='country')\n",
    "print(data.iloc[0, 0])"
   ]
  },
  {
   "cell_type": "markdown",
   "metadata": {},
   "source": [
    "- Use `DataFrame.loc[..., ...]` to select values by their row/column labels."
   ]
  },
  {
   "cell_type": "code",
   "execution_count": null,
   "metadata": {},
   "outputs": [],
   "source": [
    "data = pd.read_csv('data/gapminder_gdp_europe.csv', index_col='country')\n",
    "print(data.loc[\"Albania\", \"gdpPercap_1952\"])"
   ]
  },
  {
   "cell_type": "markdown",
   "metadata": {},
   "source": [
    "- Use `:` on its own to mean all columns or all rows.\n",
    "  - This follows Python's slicing notation."
   ]
  },
  {
   "cell_type": "code",
   "execution_count": null,
   "metadata": {},
   "outputs": [],
   "source": [
    "print(data.loc[\"Albania\", :])"
   ]
  },
  {
   "cell_type": "markdown",
   "metadata": {},
   "source": [
    "- We get the same result printing `data.loc[\"Albania\"]` (without a second index)."
   ]
  },
  {
   "cell_type": "code",
   "execution_count": null,
   "metadata": {},
   "outputs": [],
   "source": [
    "print(data.loc[:, \"gdpPercap_1952\"])"
   ]
  },
  {
   "cell_type": "markdown",
   "metadata": {},
   "source": [
    "- Would get the same result printing `data[\"gdpPercap_1952\"]`\n",
    "- Slicing works with labels as well as numerical positions"
   ]
  },
  {
   "cell_type": "code",
   "execution_count": null,
   "metadata": {},
   "outputs": [],
   "source": [
    "# 1. Use slicing to select GDP data from Italy to Poland\n",
    "#    and from 1962 to 1972.j\n",
    "print(data.loc['Italy':'Poland', 'gdpPercap_1962':'gdpPercap_1972'])"
   ]
  },
  {
   "cell_type": "markdown",
   "metadata": {},
   "source": [
    "- Slicing using `loc` is inclusive at both ends\n",
    "  - This differs from slicing using `iloc`  "
   ]
  },
  {
   "cell_type": "markdown",
   "metadata": {},
   "source": [
    "## Putting it Together\n",
    "- The result from slicing can be used in further operations."
   ]
  },
  {
   "cell_type": "code",
   "execution_count": null,
   "metadata": {},
   "outputs": [],
   "source": [
    "# Find the maximum GDP for the above countries and above years\n",
    "print(data.loc['Italy':'Poland', 'gdpPercap_1962':'gdpPercap_1972'].max())"
   ]
  },
  {
   "cell_type": "code",
   "execution_count": null,
   "metadata": {},
   "outputs": [],
   "source": [
    "# Find the minimum GDP for the above countries and above years\n",
    "print(data.loc['Italy':'Poland', 'gdpPercap_1962':'gdpPercap_1972'].min())"
   ]
  },
  {
   "cell_type": "markdown",
   "metadata": {},
   "source": [
    "## Filtering Data\n",
    "- Use comparisons to select data based on values.\n",
    "- Comparisons are applied element by element.\n",
    "- They return a similarly-shaped dataframe of `True` and `False` values."
   ]
  },
  {
   "cell_type": "code",
   "execution_count": null,
   "metadata": {},
   "outputs": [],
   "source": [
    "# Use a subset of data to keep output readable.\n",
    "subset = data.loc['Italy':'Poland', 'gdpPercap_1962':'gdpPercap_1972']\n",
    "print('Subset of data:\\n', subset)\n",
    "\n",
    "# Which values were greater than 10000 ?\n",
    "print('\\nWhere are values large?\\n', subset > 10000)"
   ]
  },
  {
   "cell_type": "markdown",
   "metadata": {},
   "source": [
    "- A dataframe full of Booleans is sometimes called a *mask* because of how it can be used."
   ]
  },
  {
   "cell_type": "code",
   "execution_count": null,
   "metadata": {},
   "outputs": [],
   "source": [
    "mask = subset > 10000\n",
    "print(subset[mask])"
   ]
  },
  {
   "cell_type": "markdown",
   "metadata": {},
   "source": [
    "- NaNs (Not a Number) are ignored by operations like max, min, average, etc."
   ]
  },
  {
   "cell_type": "code",
   "execution_count": null,
   "metadata": {},
   "outputs": [],
   "source": [
    "print(subset[subset > 10000].describe())"
   ]
  },
  {
   "cell_type": "markdown",
   "metadata": {},
   "source": [
    "## Exercise: Split-Apply-Combine"
   ]
  },
  {
   "cell_type": "markdown",
   "metadata": {},
   "source": [
    "### Group By"
   ]
  },
  {
   "cell_type": "markdown",
   "metadata": {},
   "source": [
    "- A common data-wrangling technique is the split-apply-combine technique\n",
    "![Split-Apply-Combine](https://pandas.pydata.org/pandas-docs/stable/_images/06_groupby1.svg)\n",
    "\n",
    "Source: <https://pandas.pydata.org/pandas-docs/stable/getting_started/intro_tutorials/06_calculate_statistics.html#min-tut-06-stats>"
   ]
  },
  {
   "cell_type": "markdown",
   "metadata": {},
   "source": [
    "## GDP of European Countries\n",
    "We will practice this technique with the Gapminder data. Suppose we want to have a clearer view on how the European countries split themselves according to their GDP.\n",
    "\n",
    "1.  We will split the countries in two groups during the years surveyed,\n",
    "    those who presented a GDP *higher* than the European average and those with a *lower* GDP.\n",
    "2.  We then estimate a *wealthy score* based on the historical (from 1962 to 2007) values,\n",
    "    where we count how many times a country participated in the higher GDP group and give a percentage score.\n",
    "3.  We will determine the totol GDP contribution for each year using wealth scores as categories."
   ]
  },
  {
   "cell_type": "markdown",
   "metadata": {},
   "source": [
    "**Part I - Split/Apply**\n",
    "\n",
    "Type the following code and run it.\n",
    "\n",
    "```python\n",
    "wealth_score = data[data > data.mean()].count(axis=1) / len(data.columns)\n",
    "wealth_score\n",
    "```"
   ]
  },
  {
   "cell_type": "code",
   "execution_count": null,
   "metadata": {},
   "outputs": [],
   "source": []
  },
  {
   "cell_type": "markdown",
   "metadata": {},
   "source": [
    "- We filtered all the countris that were above the mean GDP.\n",
    "- We then counted all the non-NaN values.\n",
    "  - Our filter used NaN's for years a country was equal to or less than the mean.\n",
    "- `axis` tells `count()` whether or not to count across rows or columns.\n",
    "  - `0` means count non-NaN's in each column\n",
    "  - `1` means count non-NaN's in each row (what we did)\n",
    "  - I like to think about what is being collapsed (see picture below)\n",
    "  - ... or just memorize 0 = down, 1 = across\n",
    "- Finally, we divided the counts by the number of years (columns) to get a percentage score,\n",
    "\n",
    "![axis](https://i.stack.imgur.com/DL0iQ.jpg)\n",
    "\n",
    "Source: <https://stackoverflow.com/questions/25773245/ambiguity-in-pandas-dataframe-numpy-array-axis-definition#answers>"
   ]
  },
  {
   "cell_type": "markdown",
   "metadata": {},
   "source": [
    "**Part II - Combine**\n",
    "\n",
    "Use `groupby()` to sum the financial contribution of wealthy countries in different wealth-score categories across the years surveyed by typing the following code and running it.\n",
    "\n",
    "```python\n",
    "data.groupby(wealth_score).sum()\n",
    "```"
   ]
  },
  {
   "cell_type": "code",
   "execution_count": null,
   "metadata": {},
   "outputs": [],
   "source": []
  },
  {
   "cell_type": "markdown",
   "metadata": {},
   "source": [
    "## Tidy Data\n",
    "- [Tidy Data](http://vita.had.co.nz/papers/tidy-data.pdf) principles are guidlines for organizing data that makes analysis on a computer more efficient and effective.\n",
    "- Keep the following principles in mind when organizing your data:\n",
    "  - Each variable has its own column\n",
    "  - Each observation has its own row\n",
    "  - Each value must have its own cell (atomic values)\n",
    "  - Each type of observational unit forms a table"
   ]
  },
  {
   "cell_type": "markdown",
   "metadata": {},
   "source": [
    "## Long and Wide Formats\n",
    "- Pandas has several functions that help us rearrange our data when we need to change its structure.\n",
    "  - This frequently occurs when we need to plot our data.\n",
    "- When data is in *wide format*, each variable has its own column.\n",
    "  - Our data is currently in *wide format*"
   ]
  },
  {
   "cell_type": "code",
   "execution_count": null,
   "metadata": {},
   "outputs": [],
   "source": [
    "data.head()"
   ]
  },
  {
   "cell_type": "markdown",
   "metadata": {},
   "source": [
    "- When data is in *long format*, multiple columns\n",
    "  are melted into a single columns and entries are repeated.\n",
    "- To change data to *long format*, `melt()` the columns"
   ]
  },
  {
   "cell_type": "code",
   "execution_count": null,
   "metadata": {},
   "outputs": [],
   "source": [
    "# Country is not currently a variable,\n",
    "# but an index\n",
    "long = data.reset_index().melt(id_vars='country', var_name='GDP_Year').sort_values(by='country')\n",
    "long"
   ]
  },
  {
   "cell_type": "markdown",
   "metadata": {},
   "source": [
    "- `pivot()` the data to go back to *wide format*"
   ]
  },
  {
   "cell_type": "code",
   "execution_count": null,
   "metadata": {},
   "outputs": [],
   "source": [
    "long.pivot(index='country', columns='GDP_Year')"
   ]
  },
  {
   "cell_type": "markdown",
   "metadata": {},
   "source": [
    "## Objectives\n",
    "- Select individual values from a Pandas dataframe.\n",
    "- Select entire rows or entire columns from a dataframe.\n",
    "- Select a subset of both rows and columns from a dataframe in a single operation.\n",
    "- Filter data based on values in a dataframe.\n",
    "- Apply a split-apply-combine workflow to a dataframe.\n",
    "- Convert a dataframe between wide and long data formats."
   ]
  }
 ],
 "metadata": {
  "kernelspec": {
   "display_name": "Python 3",
   "language": "python",
   "name": "python3"
  },
  "language_info": {
   "codemirror_mode": {
    "name": "ipython",
    "version": 3
   },
   "file_extension": ".py",
   "mimetype": "text/x-python",
   "name": "python",
   "nbconvert_exporter": "python",
   "pygments_lexer": "ipython3",
   "version": "3.7.6"
  }
 },
 "nbformat": 4,
 "nbformat_minor": 4
}
