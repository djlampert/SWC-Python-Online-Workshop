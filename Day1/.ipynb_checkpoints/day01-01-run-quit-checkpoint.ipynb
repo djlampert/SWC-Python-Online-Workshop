{
 "cells": [
  {
   "cell_type": "markdown",
   "metadata": {},
   "source": [
    "# Running and Quitting\n",
    "\n",
    "## Questions:\n",
    "- How can I run Python programs? \n",
    "\n",
    "## Objectives:  \n",
    "- Launch the Azure server.\n",
    "- Create a Jupyter notebook.\n",
    "- Understand the difference between a Python script and a Jupyter notebook.\n",
    "- Create Markdown cells in a notebook.\n",
    "- Create and run Python cells in a notebook.\n",
    "\n",
    "## Key points:\n",
    "- Python scripts are plain text files.\n",
    "- Use the Jupyter Notebook for editing and running Python.\n",
    "- The Notebook has Command and Edit modes.\n",
    "- Use the keyboard and mouse to select and edit cells.\n",
    "- The Notebook will turn Markdown into pretty-printed documentation.\n",
    "- Markdown does most of what HTML does.\n",
    "\n",
    "## Getting Started with Azure Notebooks\n",
    "While many software developers will often use an integrated development environment (IDE) or a text editor to create and edit their Python programs, we will be using Azure notebooks during this lesson. \n",
    "\n",
    "Jupyter notebooks can also be run using the Anaconda Python distribution. If you have not already installed the Anaconda Python distribution, see [the setup instructions](https://swcarpentry.github.io/python-novice-gapminder/setup/) \n",
    "for installation instructions."
   ]
  },
  {
   "cell_type": "markdown",
   "metadata": {},
   "source": [
    "## Creating a Python script\n",
    "\n",
    "*   To start writing a new Python program click the Text File icon under the *Other* header in the Launcher tab of the Main Work Area.\n",
    "    *   You can also create a new plain text file by selecting the *New -> Text File* from the *File* menu in the Menu Bar.\n",
    "*   To convert this plain text file to a Python program, select the *Save File As* action from the *File* menu in the Menu Bar and give your new text file a name that ends with the `.py` extension.\n",
    "    *   The `.py` extension lets everyone (including the operating system) know that this text file is a Python program.\n",
    "    *   This is convention, not a requirement.\n",
    "\n",
    "## Creating a Jupyter Notebook\n",
    "To open a new notebook click the Python 3 icon under the *Notebook* header in the Launcher tab in \n",
    "the main work area. You can also create a new notebook by selecting *New -> Notebook* from the *File* menu in the Menu Bar. Additional notes on Jupyter notebooks:.\n",
    "  *   Notebook files have the extension `.ipynb` to distinguish them from plain-text Python programs.\n",
    "  *   Notebooks can be exported as Python scripts that can be run from the command line.\n",
    "\n",
    "## Use Jupyter Notebooks for editing and running Python.\n",
    "*   While it's common to write Python scripts using a text editor, we are going to use the [Jupyter Notebook](https://jupyter.org/) for the remainder of this workshop.\n",
    "*   This has several advantages:\n",
    "    *   You can easily type, edit, and copy and paste blocks of code.\n",
    "    *   Tab complete allows you to easily access the names of things you are using\n",
    "        and learn more about them.\n",
    "    *   It allows you to annotate your code with links, different sized text, bullets, etc.\n",
    "        to make it more accessible to you and your collaborators.\n",
    "    *   It allows you to display figures next to the code that produces them\n",
    "        to tell a complete story of the analysis.\n",
    "*   Each notebook contains one or more cells that contain code, text, or images.\n",
    "\n",
    "## Code vs. Text\n",
    "Jupyter mixes code and text in different types of blocks, called cells. We often use the term \"code\" to mean \"the source code of software written in a language such as Python\". A \"code cell\" in a Notebook is a cell that contains software; a \"text cell\" is one that contains ordinary prose written for human beings. \n",
    "\n",
    "## Example Python code cell: \"Hello World.\""
   ]
  },
  {
   "cell_type": "code",
   "execution_count": null,
   "metadata": {},
   "outputs": [],
   "source": []
  },
  {
   "cell_type": "markdown",
   "metadata": {},
   "source": [
    "## Use the keyboard and mouse to select and edit cells.\n",
    "*   Pressing the <kbd>Return</kbd> key turns the border blue and engages Edit mode, which allows \n",
    "    you to type within the cell.\n",
    "*   We need some other way to tell the Notebook we want to run what's in the cell.\n",
    "*   Pressing <kbd>Shift</kbd>+<kbd>Return</kbd> together will execute the contents of the cell."
   ]
  },
  {
   "cell_type": "markdown",
   "metadata": {},
   "source": [
    "## Notebooks will turn Markdown into pretty-printed documentation.\n",
    "*   Notebooks can also render [Markdown](https://en.wikipedia.org/wiki/Markdown).\n",
    "    *   A simple plain-text format for writing lists, links, and other things that might go into a web page.\n",
    "    *   Equivalently, a subset of HTML that looks like what you'd send in an old-fashioned email.\n",
    "*   Turn the current cell into a Markdown cell by entering the Command mode (<kbd>Esc</kbd>/gray) \n",
    "    and press the <kbd>M</kbd> key.\n",
    "*   Turn the current cell into a Code cell by entering the Command mode (<kbd>Esc</kbd>/gray) and \n",
    "    press the <kbd>y</kbd> key."
   ]
  },
  {
   "cell_type": "markdown",
   "metadata": {},
   "source": [
    "## Markdown can be used to provide documentation for Python code.\n",
    "Asterisks can be used for creating bulleted lists.  \n",
    "Numbers can be used for numbered lists.  \n",
    "Adding spaces in a list allows sublists.\n",
    "Pound signs can be used to make headings.\n",
    "\n",
    "## Exercise: Create a bulleted and numbered list in Markdown in the cell below."
   ]
  },
  {
   "cell_type": "markdown",
   "metadata": {},
   "source": [
    "\n",
    "\n",
    "\n"
   ]
  },
  {
   "cell_type": "markdown",
   "metadata": {},
   "source": [
    "## Equation editing \n",
    "\n",
    "Notebooks can also include complex mathematical equations using [LaTeX](https://www.overleaf.com/learn/latex/mathematical_expressions) notation (click the link for some common applications). \n",
    "The equation is enclosed using dollar signs.\n",
    "\n",
    "## Exercise: Use LaTeX to write out Euler's identity."
   ]
  },
  {
   "cell_type": "markdown",
   "metadata": {},
   "source": [
    " "
   ]
  }
 ],
 "metadata": {
  "kernelspec": {
   "display_name": "Python 3",
   "language": "python",
   "name": "python3"
  },
  "language_info": {
   "codemirror_mode": {
    "name": "ipython",
    "version": 3
   },
   "file_extension": ".py",
   "mimetype": "text/x-python",
   "name": "python",
   "nbconvert_exporter": "python",
   "pygments_lexer": "ipython3",
   "version": "3.7.3"
  }
 },
 "nbformat": 4,
 "nbformat_minor": 2
}
